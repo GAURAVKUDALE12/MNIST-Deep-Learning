{
 "cells": [
  {
   "cell_type": "markdown",
   "metadata": {},
   "source": [
    "# Deep-Learning Lab Session"
   ]
  },
  {
   "cell_type": "code",
   "execution_count": 99,
   "metadata": {},
   "outputs": [],
   "source": [
    "import warnings\n",
    "warnings.filterwarnings('ignore')"
   ]
  },
  {
   "cell_type": "code",
   "execution_count": 100,
   "metadata": {},
   "outputs": [],
   "source": [
    "import numpy as np\n",
    "import keras\n",
    "from keras.datasets import mnist\n",
    "from keras.utils import np_utils\n",
    "from keras.models import Sequential\n",
    "from keras.layers.core import Dense, Dropout, Activation\n",
    "from keras.layers import BatchNormalization\n",
    "from keras.regularizers import l2\n",
    "import matplotlib.pyplot as plt"
   ]
  },
  {
   "cell_type": "markdown",
   "metadata": {},
   "source": [
    "## Loading MNIST Data from Keras"
   ]
  },
  {
   "cell_type": "markdown",
   "metadata": {},
   "source": [
    "MNIST is a database. The acronym stands for “Modified National Institute of Standards and Technology.” The MNIST \n",
    "\n",
    "database contains handwritten digits (0 through 9), and can provide a baseline for testing image processing systems. \n"
   ]
  },
  {
   "cell_type": "code",
   "execution_count": 101,
   "metadata": {},
   "outputs": [],
   "source": [
    "(x_train, y_train), (x_test, y_test) = mnist.load_data()"
   ]
  },
  {
   "cell_type": "code",
   "execution_count": 102,
   "metadata": {},
   "outputs": [
    {
     "data": {
      "image/png": "[encoded data removed]",
      "text/plain": [
       "<Figure size 432x288 with 9 Axes>"
      ]
     },
     "metadata": {
      "needs_background": "light"
     },
     "output_type": "display_data"
    }
   ],
   "source": [
    "for i in range(9):\n",
    "    plt.subplot(330 + 1 + i)\n",
    "    plt.imshow(x_train[i], cmap=plt.get_cmap('gray'))\n",
    "plt.show()"
   ]
  },
  {
   "cell_type": "code",
   "execution_count": 103,
   "metadata": {},
   "outputs": [
    {
     "name": "stdout",
     "output_type": "stream",
     "text": [
      "(60000, 28, 28)\n",
      "(10000, 28, 28)\n"
     ]
    }
   ],
   "source": [
    "print(x_train.shape)\n",
    "print(x_test.shape)"
   ]
  },
  {
   "cell_type": "markdown",
   "metadata": {},
   "source": [
    "## Normalizing"
   ]
  },
  {
   "cell_type": "code",
   "execution_count": 104,
   "metadata": {},
   "outputs": [],
   "source": [
    "x_train = x_train.astype('float32')/255.\n",
    "x_test = x_test.astype('float32')/255."
   ]
  },
  {
   "cell_type": "code",
   "execution_count": 105,
   "metadata": {},
   "outputs": [
    {
     "name": "stdout",
     "output_type": "stream",
     "text": [
      "(60000, 28, 28)\n",
      "(10000, 28, 28)\n"
     ]
    }
   ],
   "source": [
    "print (x_train.shape)\n",
    "print (x_test.shape)"
   ]
  },
  {
   "cell_type": "code",
   "execution_count": 106,
   "metadata": {},
   "outputs": [
    {
     "name": "stdout",
     "output_type": "stream",
     "text": [
      "60000\n"
     ]
    }
   ],
   "source": [
    "print(x_train.shape[0])"
   ]
  },
  {
   "cell_type": "code",
   "execution_count": 107,
   "metadata": {},
   "outputs": [
    {
     "name": "stdout",
     "output_type": "stream",
     "text": [
      "(28, 28)\n"
     ]
    }
   ],
   "source": [
    "print((x_train.shape[1:]))"
   ]
  },
  {
   "cell_type": "code",
   "execution_count": 108,
   "metadata": {},
   "outputs": [
    {
     "name": "stdout",
     "output_type": "stream",
     "text": [
      "784\n"
     ]
    }
   ],
   "source": [
    "print(np.prod(x_train.shape[1:]))"
   ]
  },
  {
   "cell_type": "code",
   "execution_count": 109,
   "metadata": {},
   "outputs": [
    {
     "name": "stdout",
     "output_type": "stream",
     "text": [
      "(60000, 784)\n",
      "(10000, 784)\n"
     ]
    }
   ],
   "source": [
    "x_train = x_train.reshape(x_train.shape[0], np.prod(x_train.shape[1:]))\n",
    "x_test = x_test.reshape(x_test.shape[0], np.prod(x_test.shape[1:]))\n",
    "\n",
    "print (x_train.shape)\n",
    "print (x_test.shape)"
   ]
  },
  {
   "cell_type": "code",
   "execution_count": 110,
   "metadata": {
    "scrolled": true
   },
   "outputs": [
    {
     "name": "stdout",
     "output_type": "stream",
     "text": [
      "[5 0 4 ... 5 6 8]\n",
      "(60000,)\n"
     ]
    }
   ],
   "source": [
    "print(y_train)\n",
    "print(y_train.shape)"
   ]
  },
  {
   "cell_type": "markdown",
   "metadata": {},
   "source": [
    "## One hot encoding the Target variable"
   ]
  },
  {
   "cell_type": "code",
   "execution_count": 111,
   "metadata": {},
   "outputs": [],
   "source": [
    "n_classes = 10\n",
    "y_train = np_utils.to_categorical(y_train, n_classes)\n",
    "y_test = np_utils.to_categorical(y_test, n_classes)"
   ]
  },
  {
   "cell_type": "code",
   "execution_count": 112,
   "metadata": {},
   "outputs": [
    {
     "name": "stdout",
     "output_type": "stream",
     "text": [
      "[[0. 0. 0. ... 0. 0. 0.]\n",
      " [1. 0. 0. ... 0. 0. 0.]\n",
      " [0. 0. 0. ... 0. 0. 0.]\n",
      " ...\n",
      " [0. 0. 0. ... 0. 0. 0.]\n",
      " [0. 0. 0. ... 0. 0. 0.]\n",
      " [0. 0. 0. ... 0. 1. 0.]]\n",
      "(60000, 10)\n"
     ]
    }
   ],
   "source": [
    "print(y_train)\n",
    "print(y_train.shape)"
   ]
  },
  {
   "cell_type": "markdown",
   "metadata": {},
   "source": [
    "\n",
    "### Layers, Data and Learning Representations\n",
    "\n",
    "<br />\n",
    "\n",
    "* __Layers__: logically grouped operations in a neural network, the parameters for the operations in the layer learn to generate the best features to predict the target\n",
    " \n",
    "<img src='img/nn_layers.jpeg' width='400px'/>\n",
    "\n",
    "<img src='img/nn_layer_operations.png' width='650px'/>\n",
    "\n",
    "<br />\n",
    "\n",
    "* The network needs to have __input data__ and corresponding __targets (y)__\n",
    "\n",
    "<br />\n",
    "\n",
    "* In traditional machine learning we see that changing the representation of the data (kernel trick, etc.) helps ease the process of learning from data\n",
    "\n",
    "<br />\n",
    "\n",
    "* __Activation function__ adds that non linearity and in combination with weights (parameters) of a layer, the network learns better representations of the data at each layer\n",
    "\n",
    "<br />\n",
    "\n",
    "### So basically, each layer takes input as data and spits out transformed data as output, simple as that. Now, let's dive into the details\n",
    "\n",
    "<img src='img/learning_representations_mlp.jpg' />\n",
    "\n",
    "<br />\n",
    "\n",
    "* The goal of training neural networks is to find these perfect representation of data, which we get by \"learning\" the right weights\n",
    "\n",
    "<img src='img/learning_weights.jpg' />\n",
    "\n",
    "<br />\n",
    " \n",
    "* The loss function, which defines the feedback signal used for learning helps guage __how different are the targets and the predicted targets__\n",
    "\n",
    "<img src='img/loss_function.jpg' />\n",
    "\n",
    "<br />\n",
    " \n",
    "* The optimizer, based on the feedback signal from the loss function changes the parameters / weights of the network to help make the predictions as close to the target as possible (minimizing the loss function)\n",
    "\n",
    "<br />\n",
    "\n",
    "<img src='img/building_blocks_of_neural_networks.jpg' />"
   ]
  },
  {
   "cell_type": "markdown",
   "metadata": {},
   "source": [
    "# Neural Network Architecture"
   ]
  },
  {
   "cell_type": "markdown",
   "metadata": {},
   "source": [
    "## 1. Basic Network with 1 Hidden Layer"
   ]
  },
  {
   "cell_type": "code",
   "execution_count": 113,
   "metadata": {},
   "outputs": [],
   "source": [
    "model1 = Sequential()"
   ]
  },
  {
   "cell_type": "code",
   "execution_count": 114,
   "metadata": {},
   "outputs": [],
   "source": [
    "model1.add(Dense(512, input_shape = (784,), activation= 'sigmoid'))\n",
    "model1.add(Dense(n_classes, activation = 'softmax'))"
   ]
  },
  {
   "cell_type": "code",
   "execution_count": 115,
   "metadata": {},
   "outputs": [],
   "source": [
    "model1.compile(optimizer=\"sgd\", loss = 'categorical_crossentropy', metrics = ['accuracy'])"
   ]
  },
  {
   "cell_type": "code",
   "execution_count": 116,
   "metadata": {
    "scrolled": false
   },
   "outputs": [
    {
     "name": "stdout",
     "output_type": "stream",
     "text": [
      "Model: \"sequential_9\"\n",
      "_________________________________________________________________\n",
      "Layer (type)                 Output Shape              Param #   \n",
      "=================================================================\n",
      "dense_29 (Dense)             (None, 512)               401920    \n",
      "_________________________________________________________________\n",
      "dense_30 (Dense)             (None, 10)                5130      \n",
      "=================================================================\n",
      "Total params: 407,050\n",
      "Trainable params: 407,050\n",
      "Non-trainable params: 0\n",
      "_________________________________________________________________\n"
     ]
    }
   ],
   "source": [
    "model1.summary()"
   ]
  },
  {
   "cell_type": "code",
   "execution_count": 117,
   "metadata": {},
   "outputs": [
    {
     "data": {
      "text/plain": [
       "401920"
      ]
     },
     "execution_count": 117,
     "metadata": {},
     "output_type": "execute_result"
    }
   ],
   "source": [
    "784*512 + 512"
   ]
  },
  {
   "cell_type": "code",
   "execution_count": 118,
   "metadata": {
    "scrolled": true
   },
   "outputs": [
    {
     "name": "stdout",
     "output_type": "stream",
     "text": [
      "Train on 60000 samples, validate on 10000 samples\n",
      "Epoch 1/10\n",
      "60000/60000 [==============================] - 4s 61us/step - loss: 1.9551 - accuracy: 0.5550 - val_loss: 1.6177 - val_accuracy: 0.7436\n",
      "Epoch 2/10\n",
      "60000/60000 [==============================] - 4s 60us/step - loss: 1.3841 - accuracy: 0.7673 - val_loss: 1.1580 - val_accuracy: 0.8150\n",
      "Epoch 3/10\n",
      "60000/60000 [==============================] - 4s 70us/step - loss: 1.0326 - accuracy: 0.8116 - val_loss: 0.8937 - val_accuracy: 0.8396\n",
      "Epoch 4/10\n",
      "60000/60000 [==============================] - 4s 60us/step - loss: 0.8316 - accuracy: 0.8342 - val_loss: 0.7420 - val_accuracy: 0.8511\n",
      "Epoch 5/10\n",
      "60000/60000 [==============================] - 3s 55us/step - loss: 0.7111 - accuracy: 0.8478 - val_loss: 0.6462 - val_accuracy: 0.8622\n",
      "Epoch 6/10\n",
      "60000/60000 [==============================] - 3s 50us/step - loss: 0.6329 - accuracy: 0.8572 - val_loss: 0.5824 - val_accuracy: 0.8691\n",
      "Epoch 7/10\n",
      "60000/60000 [==============================] - 3s 50us/step - loss: 0.5786 - accuracy: 0.8634 - val_loss: 0.5372 - val_accuracy: 0.8747\n",
      "Epoch 8/10\n",
      "60000/60000 [==============================] - 3s 51us/step - loss: 0.5385 - accuracy: 0.8691 - val_loss: 0.5028 - val_accuracy: 0.8781\n",
      "Epoch 9/10\n",
      "60000/60000 [==============================] - 3s 46us/step - loss: 0.5079 - accuracy: 0.8730 - val_loss: 0.4757 - val_accuracy: 0.8827\n",
      "Epoch 10/10\n",
      "60000/60000 [==============================] - 3s 46us/step - loss: 0.4839 - accuracy: 0.8769 - val_loss: 0.4546 - val_accuracy: 0.8848\n"
     ]
    }
   ],
   "source": [
    "history = model1.fit(x_train, y_train, batch_size=128, epochs=10, verbose=True, validation_data= (x_test, y_test)) #validation_split=.1\n",
    "loss, accuracy  = model1.evaluate(x_test, y_test, verbose=False)"
   ]
  },
  {
   "cell_type": "code",
   "execution_count": 119,
   "metadata": {},
   "outputs": [
    {
     "data": {
      "image/png": "[encoded data removed]",
      "text/plain": [
       "<Figure size 432x288 with 2 Axes>"
      ]
     },
     "metadata": {
      "needs_background": "light"
     },
     "output_type": "display_data"
    }
   ],
   "source": [
    "fig = plt.figure()\n",
    "plt.subplot(2,1,1)\n",
    "plt.plot(history.history['accuracy'])\n",
    "plt.plot(history.history['val_accuracy'])\n",
    "plt.title('model accuracy')\n",
    "plt.ylabel('accuracy')\n",
    "plt.xlabel('epoch')\n",
    "plt.legend(['train', 'test'], loc='lower right')\n",
    "\n",
    "plt.subplot(2,1,2)\n",
    "plt.plot(history.history['loss'])\n",
    "plt.plot(history.history['val_loss'])\n",
    "plt.title('model loss')\n",
    "plt.ylabel('loss')\n",
    "plt.xlabel('epoch')\n",
    "plt.legend(['train', 'test'], loc='upper right')\n",
    "\n",
    "plt.tight_layout()"
   ]
  },
  {
   "cell_type": "markdown",
   "metadata": {},
   "source": [
    "## Model Evaluation"
   ]
  },
  {
   "cell_type": "code",
   "execution_count": 120,
   "metadata": {},
   "outputs": [
    {
     "name": "stdout",
     "output_type": "stream",
     "text": [
      "Train Loss 0.47387717463175455\n",
      "Train Accuracy 0.8772333264350891\n"
     ]
    }
   ],
   "source": [
    "loss_and_metrics = model1.evaluate(x_train, y_train, verbose=2)\n",
    "\n",
    "print(\"Train Loss\", loss_and_metrics[0])\n",
    "print(\"Train Accuracy\", loss_and_metrics[1])"
   ]
  },
  {
   "cell_type": "code",
   "execution_count": 121,
   "metadata": {},
   "outputs": [
    {
     "name": "stdout",
     "output_type": "stream",
     "text": [
      "Test Loss 0.4545838043689728\n",
      "Test Accuracy 0.8848000168800354\n"
     ]
    }
   ],
   "source": [
    "loss_and_metrics = model1.evaluate(x_test, y_test, verbose=2)\n",
    "\n",
    "print(\"Test Loss\", loss_and_metrics[0])\n",
    "print(\"Test Accuracy\", loss_and_metrics[1])"
   ]
  },
  {
   "cell_type": "markdown",
   "metadata": {},
   "source": [
    "## 2. Network with 2 Hidden Layers"
   ]
  },
  {
   "cell_type": "code",
   "execution_count": 122,
   "metadata": {},
   "outputs": [],
   "source": [
    "model2= Sequential()"
   ]
  },
  {
   "cell_type": "code",
   "execution_count": 123,
   "metadata": {},
   "outputs": [
    {
     "name": "stdout",
     "output_type": "stream",
     "text": [
      "Model: \"sequential_10\"\n",
      "_________________________________________________________________\n",
      "Layer (type)                 Output Shape              Param #   \n",
      "=================================================================\n",
      "dense_31 (Dense)             (None, 512)               401920    \n",
      "_________________________________________________________________\n",
      "dense_32 (Dense)             (None, 100)               51300     \n",
      "_________________________________________________________________\n",
      "dense_33 (Dense)             (None, 10)                1010      \n",
      "=================================================================\n",
      "Total params: 454,230\n",
      "Trainable params: 454,230\n",
      "Non-trainable params: 0\n",
      "_________________________________________________________________\n"
     ]
    }
   ],
   "source": [
    "model2.add(Dense(512, input_shape = (784,), activation= 'sigmoid'))\n",
    "model2.add(Dense(100, activation = 'sigmoid'))\n",
    "model2.add(Dense(n_classes, activation = 'softmax'))\n",
    "model2.compile(optimizer=\"sgd\", loss = 'categorical_crossentropy', metrics = ['accuracy'])\n",
    "model2.summary()"
   ]
  },
  {
   "cell_type": "code",
   "execution_count": 27,
   "metadata": {},
   "outputs": [
    {
     "name": "stdout",
     "output_type": "stream",
     "text": [
      "Train on 60000 samples, validate on 10000 samples\n",
      "Epoch 1/10\n",
      "60000/60000 [==============================] - 4s 72us/step - loss: 2.1820 - accuracy: 0.4466 - val_loss: 2.1290 - val_accuracy: 0.5148\n",
      "Epoch 2/10\n",
      "60000/60000 [==============================] - 3s 57us/step - loss: 2.0716 - accuracy: 0.5619 - val_loss: 1.9941 - val_accuracy: 0.5956\n",
      "Epoch 3/10\n",
      "60000/60000 [==============================] - 4s 65us/step - loss: 1.9126 - accuracy: 0.6060 - val_loss: 1.8048 - val_accuracy: 0.6285\n",
      "Epoch 4/10\n",
      "60000/60000 [==============================] - 3s 55us/step - loss: 1.7046 - accuracy: 0.6424 - val_loss: 1.5777 - val_accuracy: 0.6459\n",
      "Epoch 5/10\n",
      "60000/60000 [==============================] - 4s 63us/step - loss: 1.4806 - accuracy: 0.6751 - val_loss: 1.3582 - val_accuracy: 0.7027\n",
      "Epoch 6/10\n",
      "60000/60000 [==============================] - 3s 53us/step - loss: 1.2802 - accuracy: 0.7149 - val_loss: 1.1762 - val_accuracy: 0.7356\n",
      "Epoch 7/10\n",
      "60000/60000 [==============================] - 4s 61us/step - loss: 1.1182 - accuracy: 0.7487 - val_loss: 1.0324 - val_accuracy: 0.7715\n",
      "Epoch 8/10\n",
      "60000/60000 [==============================] - 3s 54us/step - loss: 0.9916 - accuracy: 0.7756 - val_loss: 0.9216 - val_accuracy: 0.7966\n",
      "Epoch 9/10\n",
      "60000/60000 [==============================] - 3s 54us/step - loss: 0.8922 - accuracy: 0.7958 - val_loss: 0.8333 - val_accuracy: 0.8112\n",
      "Epoch 10/10\n",
      "60000/60000 [==============================] - 3s 56us/step - loss: 0.8127 - accuracy: 0.8109 - val_loss: 0.7623 - val_accuracy: 0.8273\n",
      "10000/10000 [==============================] - 1s 58us/step\n"
     ]
    }
   ],
   "source": [
    "history = model2.fit(x_train, y_train, batch_size=128, epochs=10, verbose=True, validation_data= (x_test, y_test)) #validation_split=.1\n",
    "loss, accuracy  = model2.evaluate(x_test, y_test, verbose=True)"
   ]
  },
  {
   "cell_type": "code",
   "execution_count": 29,
   "metadata": {},
   "outputs": [
    {
     "data": {
      "image/png": "[encoded data removed]",
      "text/plain": [
       "<Figure size 432x288 with 2 Axes>"
      ]
     },
     "metadata": {
      "needs_background": "light"
     },
     "output_type": "display_data"
    }
   ],
   "source": [
    "fig = plt.figure()\n",
    "plt.subplot(2,1,1)\n",
    "plt.plot(history.history['accuracy'])\n",
    "plt.plot(history.history['val_accuracy'])\n",
    "plt.title('model accuracy')\n",
    "plt.ylabel('accuracy')\n",
    "plt.xlabel('epoch')\n",
    "plt.legend(['train', 'test'], loc='lower right')\n",
    "\n",
    "plt.subplot(2,1,2)\n",
    "plt.plot(history.history['loss'])\n",
    "plt.plot(history.history['val_loss'])\n",
    "plt.title('model loss')\n",
    "plt.ylabel('loss')\n",
    "plt.xlabel('epoch')\n",
    "plt.legend(['train', 'test'], loc='upper right')\n",
    "\n",
    "plt.tight_layout()"
   ]
  },
  {
   "cell_type": "markdown",
   "metadata": {},
   "source": [
    "## Model Evaluation"
   ]
  },
  {
   "cell_type": "code",
   "execution_count": 30,
   "metadata": {},
   "outputs": [
    {
     "name": "stdout",
     "output_type": "stream",
     "text": [
      "Train Loss 0.7785738595167796\n",
      "Train Accuracy 0.8209999799728394\n"
     ]
    }
   ],
   "source": [
    "loss_and_metrics = model2.evaluate(x_train, y_train, verbose=2)\n",
    "\n",
    "print(\"Train Loss\", loss_and_metrics[0])\n",
    "print(\"Train Accuracy\", loss_and_metrics[1])"
   ]
  },
  {
   "cell_type": "code",
   "execution_count": 31,
   "metadata": {},
   "outputs": [
    {
     "name": "stdout",
     "output_type": "stream",
     "text": [
      "Test Loss 0.7623496227264405\n",
      "Test Accuracy 0.8273000121116638\n"
     ]
    }
   ],
   "source": [
    "loss_and_metrics = model2.evaluate(x_test, y_test, verbose=2)\n",
    "\n",
    "print(\"Test Loss\", loss_and_metrics[0])\n",
    "print(\"Test Accuracy\", loss_and_metrics[1])"
   ]
  },
  {
   "cell_type": "markdown",
   "metadata": {},
   "source": [
    "## 3. Network with 3 Hidden Layers"
   ]
  },
  {
   "cell_type": "code",
   "execution_count": 32,
   "metadata": {},
   "outputs": [],
   "source": [
    "model3= Sequential()"
   ]
  },
  {
   "cell_type": "code",
   "execution_count": 33,
   "metadata": {},
   "outputs": [
    {
     "name": "stdout",
     "output_type": "stream",
     "text": [
      "Model: \"sequential_3\"\n",
      "_________________________________________________________________\n",
      "Layer (type)                 Output Shape              Param #   \n",
      "=================================================================\n",
      "dense_6 (Dense)              (None, 512)               401920    \n",
      "_________________________________________________________________\n",
      "dense_7 (Dense)              (None, 100)               51300     \n",
      "_________________________________________________________________\n",
      "dense_8 (Dense)              (None, 100)               10100     \n",
      "_________________________________________________________________\n",
      "dense_9 (Dense)              (None, 10)                1010      \n",
      "=================================================================\n",
      "Total params: 464,330\n",
      "Trainable params: 464,330\n",
      "Non-trainable params: 0\n",
      "_________________________________________________________________\n"
     ]
    }
   ],
   "source": [
    "model3.add(Dense(512, input_shape = (784,), activation= 'sigmoid'))\n",
    "model3.add(Dense(100, activation = 'sigmoid'))\n",
    "model3.add(Dense(100, activation = 'sigmoid'))\n",
    "model3.add(Dense(n_classes, activation = 'softmax'))\n",
    "model3.compile(optimizer=\"sgd\", loss = 'categorical_crossentropy', metrics = ['accuracy'])\n",
    "model3.summary()"
   ]
  },
  {
   "cell_type": "code",
   "execution_count": 34,
   "metadata": {},
   "outputs": [
    {
     "name": "stdout",
     "output_type": "stream",
     "text": [
      "Train on 60000 samples, validate on 10000 samples\n",
      "Epoch 1/10\n",
      "60000/60000 [==============================] - 4s 74us/step - loss: 2.3044 - accuracy: 0.1118 - val_loss: 2.2963 - val_accuracy: 0.1135\n",
      "Epoch 2/10\n",
      "60000/60000 [==============================] - 4s 66us/step - loss: 2.2942 - accuracy: 0.1225 - val_loss: 2.2920 - val_accuracy: 0.2305\n",
      "Epoch 3/10\n",
      "60000/60000 [==============================] - 4s 68us/step - loss: 2.2889 - accuracy: 0.1344 - val_loss: 2.2854 - val_accuracy: 0.1150\n",
      "Epoch 4/10\n",
      "60000/60000 [==============================] - 4s 64us/step - loss: 2.2829 - accuracy: 0.1424 - val_loss: 2.2791 - val_accuracy: 0.1813\n",
      "Epoch 5/10\n",
      "60000/60000 [==============================] - 3s 57us/step - loss: 2.2759 - accuracy: 0.1650 - val_loss: 2.2715 - val_accuracy: 0.2703\n",
      "Epoch 6/10\n",
      "60000/60000 [==============================] - 3s 56us/step - loss: 2.2672 - accuracy: 0.2089 - val_loss: 2.2611 - val_accuracy: 0.2267\n",
      "Epoch 7/10\n",
      "60000/60000 [==============================] - 4s 59us/step - loss: 2.2563 - accuracy: 0.2494 - val_loss: 2.2485 - val_accuracy: 0.4134\n",
      "Epoch 8/10\n",
      "60000/60000 [==============================] - 4s 66us/step - loss: 2.2419 - accuracy: 0.3198 - val_loss: 2.2316 - val_accuracy: 0.3271\n",
      "Epoch 9/10\n",
      "60000/60000 [==============================] - 3s 58us/step - loss: 2.2228 - accuracy: 0.3537 - val_loss: 2.2095 - val_accuracy: 0.2896\n",
      "Epoch 10/10\n",
      "60000/60000 [==============================] - 4s 59us/step - loss: 2.1963 - accuracy: 0.3922 - val_loss: 2.1768 - val_accuracy: 0.3992\n",
      "10000/10000 [==============================] - 1s 57us/step\n"
     ]
    }
   ],
   "source": [
    "history = model3.fit(x_train, y_train, batch_size=128, epochs=10, verbose=True, validation_data= (x_test, y_test)) #validation_split=.1\n",
    "loss, accuracy  = model3.evaluate(x_test, y_test, verbose=True)"
   ]
  },
  {
   "cell_type": "code",
   "execution_count": 35,
   "metadata": {},
   "outputs": [
    {
     "data": {
      "image/png": "[encoded data removed]",
      "text/plain": [
       "<Figure size 432x288 with 2 Axes>"
      ]
     },
     "metadata": {
      "needs_background": "light"
     },
     "output_type": "display_data"
    }
   ],
   "source": [
    "fig = plt.figure()\n",
    "plt.subplot(2,1,1)\n",
    "plt.plot(history.history['accuracy'])\n",
    "plt.plot(history.history['val_accuracy'])\n",
    "plt.title('model accuracy')\n",
    "plt.ylabel('accuracy')\n",
    "plt.xlabel('epoch')\n",
    "plt.legend(['train', 'test'], loc='lower right')\n",
    "\n",
    "plt.subplot(2,1,2)\n",
    "plt.plot(history.history['loss'])\n",
    "plt.plot(history.history['val_loss'])\n",
    "plt.title('model loss')\n",
    "plt.ylabel('loss')\n",
    "plt.xlabel('epoch')\n",
    "plt.legend(['train', 'test'], loc='upper right')\n",
    "\n",
    "plt.tight_layout()"
   ]
  },
  {
   "cell_type": "markdown",
   "metadata": {},
   "source": [
    "## Model Evaluation"
   ]
  },
  {
   "cell_type": "code",
   "execution_count": 36,
   "metadata": {},
   "outputs": [
    {
     "name": "stdout",
     "output_type": "stream",
     "text": [
      "Train Loss 2.1791251449584963\n",
      "Train Accuracy 0.3901500105857849\n"
     ]
    }
   ],
   "source": [
    "loss_and_metrics = model3.evaluate(x_train, y_train, verbose=2)\n",
    "\n",
    "print(\"Train Loss\", loss_and_metrics[0])\n",
    "print(\"Train Accuracy\", loss_and_metrics[1])"
   ]
  },
  {
   "cell_type": "code",
   "execution_count": 37,
   "metadata": {},
   "outputs": [
    {
     "name": "stdout",
     "output_type": "stream",
     "text": [
      "Test Loss 2.1767766773223878\n",
      "Test Accuracy 0.3991999924182892\n"
     ]
    }
   ],
   "source": [
    "loss_and_metrics = model3.evaluate(x_test, y_test, verbose=2)\n",
    "\n",
    "print(\"Test Loss\", loss_and_metrics[0])\n",
    "print(\"Test Accuracy\", loss_and_metrics[1])"
   ]
  },
  {
   "cell_type": "markdown",
   "metadata": {},
   "source": [
    "## 4. Network with 2 layers and ReLU as an activation func for 1 layer"
   ]
  },
  {
   "cell_type": "code",
   "execution_count": 38,
   "metadata": {},
   "outputs": [],
   "source": [
    "model4= Sequential()"
   ]
  },
  {
   "cell_type": "code",
   "execution_count": 39,
   "metadata": {},
   "outputs": [
    {
     "name": "stdout",
     "output_type": "stream",
     "text": [
      "Model: \"sequential_4\"\n",
      "_________________________________________________________________\n",
      "Layer (type)                 Output Shape              Param #   \n",
      "=================================================================\n",
      "dense_10 (Dense)             (None, 512)               401920    \n",
      "_________________________________________________________________\n",
      "dense_11 (Dense)             (None, 100)               51300     \n",
      "_________________________________________________________________\n",
      "dense_12 (Dense)             (None, 10)                1010      \n",
      "=================================================================\n",
      "Total params: 454,230\n",
      "Trainable params: 454,230\n",
      "Non-trainable params: 0\n",
      "_________________________________________________________________\n"
     ]
    }
   ],
   "source": [
    "model4.add(Dense(512, input_shape = (784,), activation= 'sigmoid'))\n",
    "model4.add(Dense(100, activation = 'relu'))\n",
    "model4.add(Dense(n_classes, activation = 'softmax'))\n",
    "model4.compile(optimizer=\"sgd\", loss = 'categorical_crossentropy', metrics = ['accuracy'])\n",
    "model4.summary()"
   ]
  },
  {
   "cell_type": "code",
   "execution_count": 40,
   "metadata": {},
   "outputs": [
    {
     "name": "stdout",
     "output_type": "stream",
     "text": [
      "Train on 60000 samples, validate on 10000 samples\n",
      "Epoch 1/10\n",
      "60000/60000 [==============================] - 4s 73us/step - loss: 1.9697 - accuracy: 0.5224 - val_loss: 1.5756 - val_accuracy: 0.7177\n",
      "Epoch 2/10\n",
      "60000/60000 [==============================] - 5s 76us/step - loss: 1.2364 - accuracy: 0.7590 - val_loss: 0.9355 - val_accuracy: 0.8069\n",
      "Epoch 3/10\n",
      "60000/60000 [==============================] - 4s 60us/step - loss: 0.7940 - accuracy: 0.8240 - val_loss: 0.6590 - val_accuracy: 0.8462\n",
      "Epoch 4/10\n",
      "60000/60000 [==============================] - 4s 61us/step - loss: 0.6054 - accuracy: 0.8516 - val_loss: 0.5348 - val_accuracy: 0.8690\n",
      "Epoch 5/10\n",
      "60000/60000 [==============================] - 3s 58us/step - loss: 0.5139 - accuracy: 0.8675 - val_loss: 0.4649 - val_accuracy: 0.8797\n",
      "Epoch 6/10\n",
      "60000/60000 [==============================] - 4s 59us/step - loss: 0.4616 - accuracy: 0.8754 - val_loss: 0.4254 - val_accuracy: 0.8853\n",
      "Epoch 7/10\n",
      "60000/60000 [==============================] - 4s 65us/step - loss: 0.4281 - accuracy: 0.8821 - val_loss: 0.3972 - val_accuracy: 0.8919\n",
      "Epoch 8/10\n",
      "60000/60000 [==============================] - 4s 60us/step - loss: 0.4050 - accuracy: 0.8868 - val_loss: 0.3783 - val_accuracy: 0.8957\n",
      "Epoch 9/10\n",
      "60000/60000 [==============================] - 3s 58us/step - loss: 0.3878 - accuracy: 0.8903 - val_loss: 0.3647 - val_accuracy: 0.8995\n",
      "Epoch 10/10\n",
      "60000/60000 [==============================] - 3s 58us/step - loss: 0.3743 - accuracy: 0.8935 - val_loss: 0.3552 - val_accuracy: 0.8980\n",
      "10000/10000 [==============================] - 1s 55us/step\n"
     ]
    }
   ],
   "source": [
    "history = model4.fit(x_train, y_train, batch_size=128, epochs=10, verbose=True, validation_data= (x_test, y_test)) #validation_split=.1\n",
    "loss, accuracy  = model4.evaluate(x_test, y_test, verbose=True)"
   ]
  },
  {
   "cell_type": "code",
   "execution_count": 41,
   "metadata": {},
   "outputs": [
    {
     "data": {
      "image/png": "[encoded data removed]",
      "text/plain": [
       "<Figure size 432x288 with 2 Axes>"
      ]
     },
     "metadata": {
      "needs_background": "light"
     },
     "output_type": "display_data"
    }
   ],
   "source": [
    "fig = plt.figure()\n",
    "plt.subplot(2,1,1)\n",
    "plt.plot(history.history['accuracy'])\n",
    "plt.plot(history.history['val_accuracy'])\n",
    "plt.title('model accuracy')\n",
    "plt.ylabel('accuracy')\n",
    "plt.xlabel('epoch')\n",
    "plt.legend(['train', 'test'], loc='lower right')\n",
    "\n",
    "plt.subplot(2,1,2)\n",
    "plt.plot(history.history['loss'])\n",
    "plt.plot(history.history['val_loss'])\n",
    "plt.title('model loss')\n",
    "plt.ylabel('loss')\n",
    "plt.xlabel('epoch')\n",
    "plt.legend(['train', 'test'], loc='upper right')\n",
    "\n",
    "plt.tight_layout()"
   ]
  },
  {
   "cell_type": "markdown",
   "metadata": {},
   "source": [
    "##  Model Evaluation"
   ]
  },
  {
   "cell_type": "code",
   "execution_count": 42,
   "metadata": {},
   "outputs": [
    {
     "name": "stdout",
     "output_type": "stream",
     "text": [
      "Train Loss 0.3707176497856776\n",
      "Train Accuracy 0.8936333060264587\n"
     ]
    }
   ],
   "source": [
    "loss_and_metrics = model4.evaluate(x_train, y_train, verbose=2)\n",
    "\n",
    "print(\"Train Loss\", loss_and_metrics[0])\n",
    "print(\"Train Accuracy\", loss_and_metrics[1])"
   ]
  },
  {
   "cell_type": "code",
   "execution_count": 43,
   "metadata": {},
   "outputs": [
    {
     "name": "stdout",
     "output_type": "stream",
     "text": [
      "Test Loss 0.3552423629164696\n",
      "Test Accuracy 0.8980000019073486\n"
     ]
    }
   ],
   "source": [
    "loss_and_metrics = model4.evaluate(x_test, y_test, verbose=2)\n",
    "\n",
    "print(\"Test Loss\", loss_and_metrics[0])\n",
    "print(\"Test Accuracy\", loss_and_metrics[1])"
   ]
  },
  {
   "cell_type": "markdown",
   "metadata": {},
   "source": [
    "## 5. Network with 2 layers and ReLU as an activation func for 1 layer and ADAM optimiser"
   ]
  },
  {
   "cell_type": "code",
   "execution_count": 44,
   "metadata": {},
   "outputs": [],
   "source": [
    "model5= Sequential()"
   ]
  },
  {
   "cell_type": "code",
   "execution_count": 45,
   "metadata": {},
   "outputs": [
    {
     "name": "stdout",
     "output_type": "stream",
     "text": [
      "Model: \"sequential_5\"\n",
      "_________________________________________________________________\n",
      "Layer (type)                 Output Shape              Param #   \n",
      "=================================================================\n",
      "dense_13 (Dense)             (None, 512)               401920    \n",
      "_________________________________________________________________\n",
      "dense_14 (Dense)             (None, 100)               51300     \n",
      "_________________________________________________________________\n",
      "dense_15 (Dense)             (None, 10)                1010      \n",
      "=================================================================\n",
      "Total params: 454,230\n",
      "Trainable params: 454,230\n",
      "Non-trainable params: 0\n",
      "_________________________________________________________________\n"
     ]
    }
   ],
   "source": [
    "model5.add(Dense(512, input_shape = (784,), activation= 'sigmoid'))\n",
    "model5.add(Dense(100, activation = 'relu'))\n",
    "model5.add(Dense(n_classes, activation = 'softmax'))\n",
    "model5.compile(optimizer=\"adam\", loss = 'categorical_crossentropy', metrics = ['accuracy'])\n",
    "model5.summary()"
   ]
  },
  {
   "cell_type": "code",
   "execution_count": 46,
   "metadata": {},
   "outputs": [
    {
     "name": "stdout",
     "output_type": "stream",
     "text": [
      "Train on 60000 samples, validate on 10000 samples\n",
      "Epoch 1/10\n",
      "60000/60000 [==============================] - 6s 102us/step - loss: 0.4407 - accuracy: 0.8769 - val_loss: 0.2713 - val_accuracy: 0.9188\n",
      "Epoch 2/10\n",
      "60000/60000 [==============================] - 6s 92us/step - loss: 0.2274 - accuracy: 0.9332 - val_loss: 0.2143 - val_accuracy: 0.9324\n",
      "Epoch 3/10\n",
      "60000/60000 [==============================] - 5s 87us/step - loss: 0.1675 - accuracy: 0.9511 - val_loss: 0.1462 - val_accuracy: 0.9569\n",
      "Epoch 4/10\n",
      "60000/60000 [==============================] - 5s 82us/step - loss: 0.1305 - accuracy: 0.9609 - val_loss: 0.1162 - val_accuracy: 0.9634\n",
      "Epoch 5/10\n",
      "60000/60000 [==============================] - 5s 85us/step - loss: 0.1028 - accuracy: 0.9686 - val_loss: 0.1160 - val_accuracy: 0.9643\n",
      "Epoch 6/10\n",
      "60000/60000 [==============================] - 5s 87us/step - loss: 0.0819 - accuracy: 0.9753 - val_loss: 0.0993 - val_accuracy: 0.9710\n",
      "Epoch 7/10\n",
      "60000/60000 [==============================] - 5s 85us/step - loss: 0.0681 - accuracy: 0.9793 - val_loss: 0.0858 - val_accuracy: 0.9719\n",
      "Epoch 8/10\n",
      "60000/60000 [==============================] - 5s 86us/step - loss: 0.0551 - accuracy: 0.9833 - val_loss: 0.0869 - val_accuracy: 0.9730\n",
      "Epoch 9/10\n",
      "60000/60000 [==============================] - 5s 85us/step - loss: 0.0462 - accuracy: 0.9858 - val_loss: 0.0716 - val_accuracy: 0.9781\n",
      "Epoch 10/10\n",
      "60000/60000 [==============================] - 5s 88us/step - loss: 0.0374 - accuracy: 0.9890 - val_loss: 0.0696 - val_accuracy: 0.9778\n",
      "10000/10000 [==============================] - 1s 58us/step\n"
     ]
    }
   ],
   "source": [
    "history = model5.fit(x_train, y_train, batch_size=128, epochs=10, verbose=True, validation_data= (x_test, y_test)) #validation_split=.1\n",
    "loss, accuracy  = model5.evaluate(x_test, y_test, verbose=True)"
   ]
  },
  {
   "cell_type": "code",
   "execution_count": 47,
   "metadata": {},
   "outputs": [
    {
     "data": {
      "image/png": "[encoded data removed]",
      "text/plain": [
       "<Figure size 432x288 with 2 Axes>"
      ]
     },
     "metadata": {
      "needs_background": "light"
     },
     "output_type": "display_data"
    }
   ],
   "source": [
    "fig = plt.figure()\n",
    "plt.subplot(2,1,1)\n",
    "plt.plot(history.history['accuracy'])\n",
    "plt.plot(history.history['val_accuracy'])\n",
    "plt.title('model accuracy')\n",
    "plt.ylabel('accuracy')\n",
    "plt.xlabel('epoch')\n",
    "plt.legend(['train', 'test'], loc='lower right')\n",
    "\n",
    "plt.subplot(2,1,2)\n",
    "plt.plot(history.history['loss'])\n",
    "plt.plot(history.history['val_loss'])\n",
    "plt.title('model loss')\n",
    "plt.ylabel('loss')\n",
    "plt.xlabel('epoch')\n",
    "plt.legend(['train', 'test'], loc='upper right')\n",
    "\n",
    "plt.tight_layout()"
   ]
  },
  {
   "cell_type": "markdown",
   "metadata": {},
   "source": [
    "##  Model Evaluation"
   ]
  },
  {
   "cell_type": "code",
   "execution_count": 48,
   "metadata": {},
   "outputs": [
    {
     "name": "stdout",
     "output_type": "stream",
     "text": [
      "Train Loss 0.025160023528430612\n",
      "Train Accuracy 0.993316650390625\n"
     ]
    }
   ],
   "source": [
    "loss_and_metrics = model5.evaluate(x_train, y_train, verbose=2)\n",
    "\n",
    "print(\"Train Loss\", loss_and_metrics[0])\n",
    "print(\"Train Accuracy\", loss_and_metrics[1])"
   ]
  },
  {
   "cell_type": "code",
   "execution_count": 49,
   "metadata": {},
   "outputs": [
    {
     "name": "stdout",
     "output_type": "stream",
     "text": [
      "Test Loss 0.06964672855106183\n",
      "Test Accuracy 0.9778000116348267\n"
     ]
    }
   ],
   "source": [
    "loss_and_metrics = model5.evaluate(x_test, y_test, verbose=2)\n",
    "\n",
    "print(\"Test Loss\", loss_and_metrics[0])\n",
    "print(\"Test Accuracy\", loss_and_metrics[1])"
   ]
  },
  {
   "cell_type": "markdown",
   "metadata": {},
   "source": [
    "## 6. Network with BatchNormalization"
   ]
  },
  {
   "cell_type": "code",
   "execution_count": 85,
   "metadata": {},
   "outputs": [],
   "source": [
    "model6= Sequential()"
   ]
  },
  {
   "cell_type": "code",
   "execution_count": 86,
   "metadata": {},
   "outputs": [
    {
     "name": "stdout",
     "output_type": "stream",
     "text": [
      "Model: \"sequential_7\"\n",
      "_________________________________________________________________\n",
      "Layer (type)                 Output Shape              Param #   \n",
      "=================================================================\n",
      "dense_23 (Dense)             (None, 512)               401920    \n",
      "_________________________________________________________________\n",
      "batch_normalization_3 (Batch (None, 512)               2048      \n",
      "_________________________________________________________________\n",
      "dense_24 (Dense)             (None, 100)               51300     \n",
      "_________________________________________________________________\n",
      "batch_normalization_4 (Batch (None, 100)               400       \n",
      "_________________________________________________________________\n",
      "dense_25 (Dense)             (None, 10)                1010      \n",
      "=================================================================\n",
      "Total params: 456,678\n",
      "Trainable params: 455,454\n",
      "Non-trainable params: 1,224\n",
      "_________________________________________________________________\n"
     ]
    }
   ],
   "source": [
    "model6.add(Dense(512, input_shape = (784,), activation= 'sigmoid'))\n",
    "model6.add(BatchNormalization())\n",
    "model6.add(Dense(100, activation = 'relu'))\n",
    "model6.add(BatchNormalization())\n",
    "model6.add(Dense(n_classes, activation = 'softmax'))\n",
    "model6.compile(optimizer=\"adam\", loss = 'categorical_crossentropy', metrics = ['accuracy'])\n",
    "model6.summary()"
   ]
  },
  {
   "cell_type": "code",
   "execution_count": 88,
   "metadata": {},
   "outputs": [
    {
     "name": "stdout",
     "output_type": "stream",
     "text": [
      "Train on 60000 samples, validate on 10000 samples\n",
      "Epoch 1/10\n",
      "60000/60000 [==============================] - 8s 126us/step - loss: 0.0952 - accuracy: 0.9721 - val_loss: 0.0982 - val_accuracy: 0.9701\n",
      "Epoch 2/10\n",
      "60000/60000 [==============================] - 8s 131us/step - loss: 0.0722 - accuracy: 0.9785 - val_loss: 0.0869 - val_accuracy: 0.9732\n",
      "Epoch 3/10\n",
      "60000/60000 [==============================] - 7s 111us/step - loss: 0.0568 - accuracy: 0.9831 - val_loss: 0.0958 - val_accuracy: 0.9709\n",
      "Epoch 4/10\n",
      "60000/60000 [==============================] - 7s 112us/step - loss: 0.0468 - accuracy: 0.9858 - val_loss: 0.0736 - val_accuracy: 0.9783\n",
      "Epoch 5/10\n",
      "60000/60000 [==============================] - 7s 111us/step - loss: 0.0376 - accuracy: 0.9886 - val_loss: 0.0759 - val_accuracy: 0.9760\n",
      "Epoch 6/10\n",
      "60000/60000 [==============================] - 7s 110us/step - loss: 0.0346 - accuracy: 0.9892 - val_loss: 0.0821 - val_accuracy: 0.9768\n",
      "Epoch 7/10\n",
      "60000/60000 [==============================] - 7s 109us/step - loss: 0.0273 - accuracy: 0.9916 - val_loss: 0.0831 - val_accuracy: 0.9758\n",
      "Epoch 8/10\n",
      "60000/60000 [==============================] - 7s 113us/step - loss: 0.0243 - accuracy: 0.9922 - val_loss: 0.0724 - val_accuracy: 0.9785\n",
      "Epoch 9/10\n",
      "60000/60000 [==============================] - 7s 113us/step - loss: 0.0191 - accuracy: 0.9944 - val_loss: 0.0837 - val_accuracy: 0.9773\n",
      "Epoch 10/10\n",
      "60000/60000 [==============================] - 7s 112us/step - loss: 0.0194 - accuracy: 0.9938 - val_loss: 0.0840 - val_accuracy: 0.9775\n",
      "10000/10000 [==============================] - 1s 71us/step\n"
     ]
    }
   ],
   "source": [
    "history = model6.fit(x_train, y_train, batch_size=128, epochs=10, verbose=True, validation_data= (x_test, y_test)) #validation_split=.1\n",
    "loss, accuracy  = model6.evaluate(x_test, y_test, verbose=True)"
   ]
  },
  {
   "cell_type": "code",
   "execution_count": 89,
   "metadata": {},
   "outputs": [
    {
     "data": {
      "image/png": "[encoded data removed]",
      "text/plain": [
       "<Figure size 432x288 with 2 Axes>"
      ]
     },
     "metadata": {
      "needs_background": "light"
     },
     "output_type": "display_data"
    }
   ],
   "source": [
    "fig = plt.figure()\n",
    "plt.subplot(2,1,1)\n",
    "plt.plot(history.history['accuracy'])\n",
    "plt.plot(history.history['val_accuracy'])\n",
    "plt.title('model accuracy')\n",
    "plt.ylabel('accuracy')\n",
    "plt.xlabel('epoch')\n",
    "plt.legend(['train', 'test'], loc='lower right')\n",
    "\n",
    "plt.subplot(2,1,2)\n",
    "plt.plot(history.history['loss'])\n",
    "plt.plot(history.history['val_loss'])\n",
    "plt.title('model loss')\n",
    "plt.ylabel('loss')\n",
    "plt.xlabel('epoch')\n",
    "plt.legend(['train', 'test'], loc='upper right')\n",
    "\n",
    "plt.tight_layout()"
   ]
  },
  {
   "cell_type": "markdown",
   "metadata": {},
   "source": [
    "## Model Evaluation"
   ]
  },
  {
   "cell_type": "code",
   "execution_count": 90,
   "metadata": {},
   "outputs": [
    {
     "name": "stdout",
     "output_type": "stream",
     "text": [
      "Train Loss 0.014219007769529708\n",
      "Train Accuracy 0.9959999918937683\n"
     ]
    }
   ],
   "source": [
    "loss_and_metrics = model6.evaluate(x_train, y_train, verbose=2)\n",
    "\n",
    "print(\"Train Loss\", loss_and_metrics[0])\n",
    "print(\"Train Accuracy\", loss_and_metrics[1])"
   ]
  },
  {
   "cell_type": "code",
   "execution_count": 91,
   "metadata": {},
   "outputs": [
    {
     "name": "stdout",
     "output_type": "stream",
     "text": [
      "Test Loss 0.0839955280227121\n",
      "Test Accuracy 0.9775000214576721\n"
     ]
    }
   ],
   "source": [
    "loss_and_metrics = model6.evaluate(x_test, y_test, verbose=2)\n",
    "\n",
    "print(\"Test Loss\", loss_and_metrics[0])\n",
    "print(\"Test Accuracy\", loss_and_metrics[1])"
   ]
  },
  {
   "cell_type": "markdown",
   "metadata": {},
   "source": [
    "## 7. Network with Dropout, L2 regularizer, kernel initializer"
   ]
  },
  {
   "cell_type": "code",
   "execution_count": 92,
   "metadata": {},
   "outputs": [],
   "source": [
    "model7= Sequential()"
   ]
  },
  {
   "cell_type": "code",
   "execution_count": 93,
   "metadata": {},
   "outputs": [
    {
     "name": "stdout",
     "output_type": "stream",
     "text": [
      "Model: \"sequential_8\"\n",
      "_________________________________________________________________\n",
      "Layer (type)                 Output Shape              Param #   \n",
      "=================================================================\n",
      "dropout_1 (Dropout)          (None, 784)               0         \n",
      "_________________________________________________________________\n",
      "dense_26 (Dense)             (None, 512)               401920    \n",
      "_________________________________________________________________\n",
      "batch_normalization_5 (Batch (None, 512)               2048      \n",
      "_________________________________________________________________\n",
      "dropout_2 (Dropout)          (None, 512)               0         \n",
      "_________________________________________________________________\n",
      "dense_27 (Dense)             (None, 100)               51300     \n",
      "_________________________________________________________________\n",
      "batch_normalization_6 (Batch (None, 100)               400       \n",
      "_________________________________________________________________\n",
      "dropout_3 (Dropout)          (None, 100)               0         \n",
      "_________________________________________________________________\n",
      "dense_28 (Dense)             (None, 10)                1010      \n",
      "=================================================================\n",
      "Total params: 456,678\n",
      "Trainable params: 455,454\n",
      "Non-trainable params: 1,224\n",
      "_________________________________________________________________\n"
     ]
    }
   ],
   "source": [
    "model7.add(Dropout(0.2,input_shape=(784,)))\n",
    "model7.add(Dense(512, activation= 'sigmoid',kernel_regularizer=l2(l=0.005),kernel_initializer='uniform'))\n",
    "model7.add(BatchNormalization())\n",
    "model7.add(Dropout(rate=0.5))\n",
    "model7.add(Dense(100, activation = 'relu', kernel_regularizer=l2(l=0.005),kernel_initializer='uniform'))\n",
    "model7.add(BatchNormalization())\n",
    "model7.add(Dropout(rate=0.5))\n",
    "model7.add(Dense(n_classes, activation = 'softmax'))\n",
    "model7.compile(optimizer=\"adam\", loss = 'categorical_crossentropy', metrics = ['accuracy'])\n",
    "model7.summary()"
   ]
  },
  {
   "cell_type": "code",
   "execution_count": 94,
   "metadata": {},
   "outputs": [
    {
     "name": "stdout",
     "output_type": "stream",
     "text": [
      "Train on 60000 samples, validate on 10000 samples\n",
      "Epoch 1/10\n",
      "60000/60000 [==============================] - 8s 139us/step - loss: 1.2485 - accuracy: 0.8386 - val_loss: 0.7766 - val_accuracy: 0.9177\n",
      "Epoch 2/10\n",
      "60000/60000 [==============================] - 9s 142us/step - loss: 0.6702 - accuracy: 0.8788 - val_loss: 0.4585 - val_accuracy: 0.9346\n",
      "Epoch 3/10\n",
      "60000/60000 [==============================] - 8s 133us/step - loss: 0.6084 - accuracy: 0.8838 - val_loss: 0.4373 - val_accuracy: 0.9355\n",
      "Epoch 4/10\n",
      "60000/60000 [==============================] - 8s 131us/step - loss: 0.6025 - accuracy: 0.8844 - val_loss: 0.4376 - val_accuracy: 0.9336\n",
      "Epoch 5/10\n",
      "60000/60000 [==============================] - 8s 128us/step - loss: 0.5983 - accuracy: 0.8896 - val_loss: 0.4306 - val_accuracy: 0.9412\n",
      "Epoch 6/10\n",
      "60000/60000 [==============================] - 8s 127us/step - loss: 0.6009 - accuracy: 0.8882 - val_loss: 0.4388 - val_accuracy: 0.9424\n",
      "Epoch 7/10\n",
      "60000/60000 [==============================] - 8s 127us/step - loss: 0.5940 - accuracy: 0.8907 - val_loss: 0.4376 - val_accuracy: 0.9407\n",
      "Epoch 8/10\n",
      "60000/60000 [==============================] - 8s 133us/step - loss: 0.6028 - accuracy: 0.8909 - val_loss: 0.4539 - val_accuracy: 0.9394\n",
      "Epoch 9/10\n",
      "60000/60000 [==============================] - 8s 127us/step - loss: 0.6015 - accuracy: 0.8919 - val_loss: 0.4545 - val_accuracy: 0.9397\n",
      "Epoch 10/10\n",
      "60000/60000 [==============================] - 8s 129us/step - loss: 0.6018 - accuracy: 0.8909 - val_loss: 0.4525 - val_accuracy: 0.9345\n",
      "10000/10000 [==============================] - 1s 84us/step\n"
     ]
    }
   ],
   "source": [
    "history = model7.fit(x_train, y_train, batch_size=128, epochs=10, verbose=True, validation_data= (x_test, y_test)) #validation_split=.1\n",
    "loss, accuracy  = model7.evaluate(x_test, y_test, verbose=True)"
   ]
  },
  {
   "cell_type": "code",
   "execution_count": 96,
   "metadata": {},
   "outputs": [
    {
     "data": {
      "image/png": "[encoded data removed]",
      "text/plain": [
       "<Figure size 432x288 with 2 Axes>"
      ]
     },
     "metadata": {
      "needs_background": "light"
     },
     "output_type": "display_data"
    }
   ],
   "source": [
    "fig = plt.figure()\n",
    "plt.subplot(2,1,1)\n",
    "plt.plot(history.history['accuracy'])\n",
    "plt.plot(history.history['val_accuracy'])\n",
    "plt.title('model accuracy')\n",
    "plt.ylabel('accuracy')\n",
    "plt.xlabel('epoch')\n",
    "plt.legend(['train', 'test'], loc='lower right')\n",
    "\n",
    "plt.subplot(2,1,2)\n",
    "plt.plot(history.history['loss'])\n",
    "plt.plot(history.history['val_loss'])\n",
    "plt.title('model loss')\n",
    "plt.ylabel('loss')\n",
    "plt.xlabel('epoch')\n",
    "plt.legend(['train', 'test'], loc='upper right')\n",
    "\n",
    "plt.tight_layout()"
   ]
  },
  {
   "cell_type": "markdown",
   "metadata": {},
   "source": [
    "##  Model Evaluation"
   ]
  },
  {
   "cell_type": "code",
   "execution_count": 97,
   "metadata": {},
   "outputs": [
    {
     "name": "stdout",
     "output_type": "stream",
     "text": [
      "Train Loss 0.45169494859377546\n",
      "Train Accuracy 0.9364500045776367\n"
     ]
    }
   ],
   "source": [
    "loss_and_metrics = model7.evaluate(x_train, y_train, verbose=2)\n",
    "\n",
    "print(\"Train Loss\", loss_and_metrics[0])\n",
    "print(\"Train Accuracy\", loss_and_metrics[1])"
   ]
  },
  {
   "cell_type": "code",
   "execution_count": 98,
   "metadata": {},
   "outputs": [
    {
     "name": "stdout",
     "output_type": "stream",
     "text": [
      "Test Loss 0.452491814994812\n",
      "Test Accuracy 0.934499979019165\n"
     ]
    }
   ],
   "source": [
    "loss_and_metrics = model7.evaluate(x_test, y_test, verbose=2)\n",
    "\n",
    "print(\"Test Loss\", loss_and_metrics[0])\n",
    "print(\"Test Accuracy\", loss_and_metrics[1])"
   ]
  },
  {
   "cell_type": "code",
   "execution_count": null,
   "metadata": {},
   "outputs": [],
   "source": []
  }
 ],
 "metadata": {
  "kernelspec": {
   "display_name": "Python 3",
   "language": "python",
   "name": "python3"
  },
  "language_info": {
   "codemirror_mode": {
    "name": "ipython",
    "version": 3
   },
   "file_extension": ".py",
   "mimetype": "text/x-python",
   "name": "python",
   "nbconvert_exporter": "python",
   "pygments_lexer": "ipython3",
   "version": "3.7.6"
  }
 },
 "nbformat": 4,
 "nbformat_minor": 2
}
